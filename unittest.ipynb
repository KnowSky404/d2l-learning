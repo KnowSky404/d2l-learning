{
 "cells": [
  {
   "cell_type": "code",
   "execution_count": 102,
   "id": "1239f092",
   "metadata": {},
   "outputs": [
    {
     "name": "stdout",
     "output_type": "stream",
     "text": [
      "          id                                               text\n",
      "0  963838069  {\"modelArray\":[],\"displayList\":[{\"Begin\":5790,...\n",
      "1  963838070  {\"modelArray\":[],\"displayList\":[{\"Begin\":2690,...\n",
      "['id', 'text']\n",
      "(2, 2)\n"
     ]
    }
   ],
   "source": [
    "import pandas as pd\n",
    "import os\n",
    "\n",
    "data_file = os.path.join('.', 'data', 'wlw_voice2text.csv')\n",
    "data = pd.read_csv(data_file,encoding='utf-8',sep=\"#\",header=0)\n",
    "print(data)\n",
    "print(data.columns.tolist())\n",
    "print(data.shape)\n"
   ]
  },
  {
   "cell_type": "code",
   "execution_count": 103,
   "id": "f7d03e8e",
   "metadata": {},
   "outputs": [
    {
     "name": "stdout",
     "output_type": "stream",
     "text": [
      "0    963838069\n",
      "1    963838070\n",
      "Name: id, dtype: int64\n",
      "0    {\"modelArray\":[],\"displayList\":[{\"Begin\":5790,...\n",
      "1    {\"modelArray\":[],\"displayList\":[{\"Begin\":2690,...\n",
      "Name: text, dtype: object\n"
     ]
    },
    {
     "data": {
      "text/plain": [
       "(pandas.core.series.Series, 'text')"
      ]
     },
     "execution_count": 103,
     "metadata": {},
     "output_type": "execute_result"
    }
   ],
   "source": [
    "data_id = data.iloc[:,0]\n",
    "print(data_id)\n",
    "data_json = data.iloc[:,1]\n",
    "print(data_json)\n",
    "type(data_json),data_json.name"
   ]
  },
  {
   "cell_type": "code",
   "execution_count": 104,
   "id": "d5ed9344",
   "metadata": {},
   "outputs": [
    {
     "data": {
      "text/plain": [
       "0    {'modelArray': [], 'displayList': [{'Begin': 5...\n",
       "1    {'modelArray': [], 'displayList': [{'Begin': 2...\n",
       "Name: text, dtype: object"
      ]
     },
     "execution_count": 104,
     "metadata": {},
     "output_type": "execute_result"
    }
   ],
   "source": [
    "import json\n",
    "\n",
    "def safe_json_loads(json_str):\n",
    "    try:\n",
    "        # 尝试将字符串解析为 JSON 对象\n",
    "        return json.loads(json_str)\n",
    "    except json.JSONDecodeError:\n",
    "        # 如果解析失败（例如，字符串不是有效的 JSON），返回 None 或者一个空字典，或者其他你希望的默认值\n",
    "        print(f\"Warning: Could not decode JSON string: {json_str}\")\n",
    "        return None # 或者 {} 或者 pd.NA\n",
    "\n",
    "data_json = data_json.apply(safe_json_loads)\n",
    "data_json\n"
   ]
  },
  {
   "cell_type": "code",
   "execution_count": 105,
   "id": "d897ebef",
   "metadata": {},
   "outputs": [
    {
     "data": {
      "text/plain": [
       "((2,), pandas.core.series.Series, pandas.core.frame.DataFrame)"
      ]
     },
     "execution_count": 105,
     "metadata": {},
     "output_type": "execute_result"
    }
   ],
   "source": [
    "data_json[0]['modelArray']\n",
    "# data_json[0] = data_json[0]['displayList']\n",
    "data_json.shape, type(data_json), type(data)"
   ]
  },
  {
   "cell_type": "code",
   "execution_count": 106,
   "id": "5eaff8c3",
   "metadata": {},
   "outputs": [],
   "source": [
    "def process_transcript_data(parsed_json_data):\n",
    "    # 1. 检查输入是否为有效的字典\n",
    "    if not isinstance(parsed_json_data, dict):\n",
    "        return None # 如果不是字典，或者之前解析失败（为None），则返回None\n",
    "\n",
    "    # 2. 获取 'displayList' 键的值\n",
    "    # .get() 方法可以安全地访问字典中的键，如果键不存在则返回 None (或你指定的默认值)\n",
    "    display_list = parsed_json_data.get('displayList')\n",
    "\n",
    "    # 3. 检查 'displayList' 是否存在且为列表类型\n",
    "    if not isinstance(display_list, list):\n",
    "        return None # 如果 'displayList' 不存在或不是列表，则返回None\n",
    "\n",
    "    # 4. 过滤并排序 displayList\n",
    "    # 我们需要确保列表中的每个元素都是字典，并且包含 'Begin' 和 'Text' 键\n",
    "    valid_segments = []\n",
    "    for segment in display_list:\n",
    "        if isinstance(segment, dict) and 'Begin' in segment and 'Text' in segment:\n",
    "            valid_segments.append(segment)\n",
    "        # else:\n",
    "            # print(f\"Warning: Skipping invalid segment in displayList: {segment}\") # 可选：打印警告\n",
    "\n",
    "    # 使用 sorted() 函数和 lambda 表达式按 'Begin' 字段升序排序\n",
    "    # key=lambda x: x['Begin'] 表示以每个字典的 'Begin' 键的值作为排序依据\n",
    "    try:\n",
    "        sorted_segments = sorted(valid_segments, key=lambda x: x['Begin'])\n",
    "    except TypeError:\n",
    "        # 如果 'Begin' 字段的值不是可比较的类型（如数字），捕获 TypeError\n",
    "        print(f\"Warning: 'Begin' field in displayList contains non-comparable types.\")\n",
    "        return None\n",
    "    except Exception as e:\n",
    "        # 捕获其他可能的排序错误\n",
    "        print(f\"Error during sorting displayList: {e}\")\n",
    "        return None\n",
    "\n",
    "    # 5. 提取 'Text' 字段并拼接成一个字符串\n",
    "    # 使用列表推导式提取所有排好序的 'Text'\n",
    "    # 使用 \" \".join() 将它们用空格连接起来\n",
    "    concatenated_text = \".\".join([segment['Text'] for segment in sorted_segments])\n",
    "\n",
    "    return concatenated_text\n"
   ]
  },
  {
   "cell_type": "code",
   "execution_count": 108,
   "id": "4fc92602",
   "metadata": {},
   "outputs": [
    {
     "data": {
      "text/plain": [
       "pandas.core.frame.DataFrame"
      ]
     },
     "execution_count": 108,
     "metadata": {},
     "output_type": "execute_result"
    }
   ],
   "source": [
    "# print(process_transcript_data(data_json[0]))\n",
    "data_json = pd.DataFrame(data_json)\n",
    "type(data_json)\n",
    "# data_json['text']\n",
    "# data_json['text_res']=data_json['text'].apply(process_transcript_data)\n",
    "# data_json['text_res'].head()"
   ]
  },
  {
   "cell_type": "code",
   "execution_count": 109,
   "id": "a8aa111c",
   "metadata": {},
   "outputs": [
    {
     "data": {
      "text/plain": [
       "(Index(['text'], dtype='object'), (2, 1))"
      ]
     },
     "execution_count": 109,
     "metadata": {},
     "output_type": "execute_result"
    }
   ],
   "source": [
    "data_json.columns,data_json.shape"
   ]
  },
  {
   "cell_type": "code",
   "execution_count": 110,
   "id": "bd00505f",
   "metadata": {},
   "outputs": [
    {
     "data": {
      "text/plain": [
       "(2, 2)"
      ]
     },
     "execution_count": 110,
     "metadata": {},
     "output_type": "execute_result"
    }
   ],
   "source": [
    "data_json['text_res'] = data_json['text'].apply(process_transcript_data)\n",
    "data_json.shape"
   ]
  },
  {
   "cell_type": "code",
   "execution_count": 114,
   "id": "267995db",
   "metadata": {},
   "outputs": [
    {
     "name": "stdout",
     "output_type": "stream",
     "text": [
      "0    您好很高兴为您服务请问有什么可以帮您.就是我一个电话手表的卡正常用的然后也是在有效期现在突然...\n",
      "1    你好很高兴为您服务请问有什么可以帮您.哎你好就是我今天.这种.刚才的时候客户反馈有20多张卡...\n",
      "Name: text_res, dtype: object\n"
     ]
    }
   ],
   "source": [
    "print(data_json['text_res'])"
   ]
  }
 ],
 "metadata": {
  "kernelspec": {
   "display_name": "d2l-learning (3.12.11)",
   "language": "python",
   "name": "python3"
  },
  "language_info": {
   "codemirror_mode": {
    "name": "ipython",
    "version": 3
   },
   "file_extension": ".py",
   "mimetype": "text/x-python",
   "name": "python",
   "nbconvert_exporter": "python",
   "pygments_lexer": "ipython3",
   "version": "3.12.11"
  }
 },
 "nbformat": 4,
 "nbformat_minor": 5
}
